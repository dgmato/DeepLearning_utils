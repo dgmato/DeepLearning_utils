{
 "cells": [
  {
   "cell_type": "code",
   "execution_count": 38,
   "metadata": {},
   "outputs": [
    {
     "name": "stdout",
     "output_type": "stream",
     "text": [
      "Once deleted, variables cannot be recovered. Proceed (y/[n])? y\n",
      "The autoreload extension is already loaded. To reload it, use:\n",
      "  %reload_ext autoreload\n"
     ]
    }
   ],
   "source": [
    "%reset\n",
    "import csv\n",
    "import numpy as np\n",
    "import DeepLearningCSVLogger as CSVLogger\n",
    "%load_ext autoreload\n",
    "%autoreload 2"
   ]
  },
  {
   "cell_type": "markdown",
   "metadata": {},
   "source": [
    "## Create CSV"
   ]
  },
  {
   "cell_type": "code",
   "execution_count": 39,
   "metadata": {},
   "outputs": [],
   "source": [
    "headers = ['Column A', 'Column B', 'Column C']\n",
    "path = 'exampleCSV.csv'\n",
    "\n",
    "CSVLogger.createCSVFile(path, headers)"
   ]
  },
  {
   "cell_type": "markdown",
   "metadata": {
    "collapsed": true
   },
   "source": [
    "## Add row to CSV file"
   ]
  },
  {
   "cell_type": "code",
   "execution_count": 40,
   "metadata": {},
   "outputs": [],
   "source": [
    "newRow = [1, 45, [4,4,4]]\n",
    "CSVLogger.addRowToCSVFile(path, newRow)\n",
    "\n",
    "newRow = [2, 23, [5,5,5]]\n",
    "CSVLogger.addRowToCSVFile(path, newRow)\n",
    "\n",
    "newRow = [3, 12, [6,6,6]]\n",
    "CSVLogger.addRowToCSVFile(path, newRow)\n",
    "\n",
    "newRow = [4, 76, [7,7,7]]\n",
    "CSVLogger.addRowToCSVFile(path, newRow)"
   ]
  },
  {
   "cell_type": "markdown",
   "metadata": {
    "collapsed": true
   },
   "source": [
    "## Read row from CSV file"
   ]
  },
  {
   "cell_type": "code",
   "execution_count": 41,
   "metadata": {},
   "outputs": [
    {
     "name": "stdout",
     "output_type": "stream",
     "text": [
      "1 2\n",
      "2 2\n",
      "hey\n",
      "a 2\n",
      "b 23\n",
      "c [5, 5, 5] ['[', '5', ',', ' ', '5', ',', ' ', '5', ']']\n"
     ]
    }
   ],
   "source": [
    "rowID = 2\n",
    "\n",
    "[a, b, c] = CSVLogger.readRowFromCSVFile(path, rowID)\n",
    "\n",
    "print 'a', a\n",
    "print 'b', b\n",
    "print 'c', c\n"
   ]
  },
  {
   "cell_type": "code",
   "execution_count": null,
   "metadata": {
    "collapsed": true
   },
   "outputs": [],
   "source": []
  }
 ],
 "metadata": {
  "kernelspec": {
   "display_name": "Python 2",
   "language": "python",
   "name": "python2"
  },
  "language_info": {
   "codemirror_mode": {
    "name": "ipython",
    "version": 2
   },
   "file_extension": ".py",
   "mimetype": "text/x-python",
   "name": "python",
   "nbconvert_exporter": "python",
   "pygments_lexer": "ipython2",
   "version": "2.7.13"
  }
 },
 "nbformat": 4,
 "nbformat_minor": 2
}
