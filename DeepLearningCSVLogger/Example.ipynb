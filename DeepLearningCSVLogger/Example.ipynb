{
 "cells": [
  {
   "cell_type": "code",
   "execution_count": 2,
   "metadata": {
    "collapsed": false
   },
   "outputs": [
    {
     "name": "stdout",
     "output_type": "stream",
     "text": [
      "Once deleted, variables cannot be recovered. Proceed (y/[n])? y\n"
     ]
    }
   ],
   "source": [
    "%reset\n",
    "import csv\n",
    "import numpy as np\n",
    "import DeepLearningCSVLogger as CSVLogger\n",
    "%load_ext autoreload\n",
    "%autoreload 2"
   ]
  },
  {
   "cell_type": "markdown",
   "metadata": {},
   "source": [
    "## Create CSV"
   ]
  },
  {
   "cell_type": "code",
   "execution_count": 2,
   "metadata": {
    "collapsed": true
   },
   "outputs": [],
   "source": [
    "headers = ['Column A', 'Column B', 'Column C']\n",
    "path = 'exampleCSV.csv'\n",
    "\n",
    "CSVLogger.createCSVFile(path, headers)"
   ]
  },
  {
   "cell_type": "markdown",
   "metadata": {
    "collapsed": true
   },
   "source": [
    "## Add row to CSV file"
   ]
  },
  {
   "cell_type": "code",
   "execution_count": 3,
   "metadata": {
    "collapsed": true
   },
   "outputs": [],
   "source": [
    "newRow = [1, 45, [4,4,4]]\n",
    "CSVLogger.addRowToCSVFile(path, newRow)\n",
    "\n",
    "newRow = [2, 23, [5,5,5]]\n",
    "CSVLogger.addRowToCSVFile(path, newRow)\n",
    "\n",
    "newRow = [3, 12, [6,6,6]]\n",
    "CSVLogger.addRowToCSVFile(path, newRow)\n",
    "\n",
    "newRow = [4, 76, [7,7,7]]\n",
    "CSVLogger.addRowToCSVFile(path, newRow)"
   ]
  },
  {
   "cell_type": "markdown",
   "metadata": {
    "collapsed": true
   },
   "source": [
    "## Read row from CSV file"
   ]
  },
  {
   "cell_type": "code",
   "execution_count": 4,
   "metadata": {
    "collapsed": false
   },
   "outputs": [
    {
     "name": "stdout",
     "output_type": "stream",
     "text": [
      "1 2\n",
      "2 2\n",
      "a 2\n",
      "b 23\n",
      "c [5, 5, 5]\n"
     ]
    }
   ],
   "source": [
    "rowID = 2\n",
    "\n",
    "[a, b, c] = CSVLogger.readRowFromCSVFile(path, rowID)\n",
    "\n",
    "print 'a', a\n",
    "print 'b', b\n",
    "print 'c', c\n"
   ]
  },
  {
   "cell_type": "code",
   "execution_count": 7,
   "metadata": {
    "collapsed": false
   },
   "outputs": [
    {
     "data": {
      "text/plain": [
       "4"
      ]
     },
     "execution_count": 7,
     "metadata": {},
     "output_type": "execute_result"
    }
   ],
   "source": [
    "CSVLogger.countNumberOfRowsInCSVfile(path)"
   ]
  },
  {
   "cell_type": "code",
   "execution_count": 4,
   "metadata": {
    "collapsed": true
   },
   "outputs": [],
   "source": [
    "path = 'exampleCSV_metric.csv'\n",
    "training_accuracy = [12, 23, 45, 56]\n",
    "training_loss = [12, 23, 45, 56]\n",
    "validation_accuracy = [120, 230, 450, 560]\n",
    "validation_loss = [12, 23, 45, 56]\n",
    "learning_rate = [12, 23, 45, 56]\n",
    "CSVLogger.saveEpochMetricsToCSV(path, training_accuracy, training_loss, validation_accuracy, validation_loss, learning_rate)"
   ]
  },
  {
   "cell_type": "code",
   "execution_count": null,
   "metadata": {
    "collapsed": true
   },
   "outputs": [],
   "source": []
  }
 ],
 "metadata": {
  "kernelspec": {
   "display_name": "Python 2",
   "language": "python",
   "name": "python2"
  },
  "language_info": {
   "codemirror_mode": {
    "name": "ipython",
    "version": 2
   },
   "file_extension": ".py",
   "mimetype": "text/x-python",
   "name": "python",
   "nbconvert_exporter": "python",
   "pygments_lexer": "ipython2",
   "version": "2.7.13"
  }
 },
 "nbformat": 4,
 "nbformat_minor": 2
}
